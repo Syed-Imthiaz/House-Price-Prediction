{
 "cells": [
  {
   "cell_type": "code",
   "execution_count": 1,
   "metadata": {
    "id": "D0WNT_gYIiHk"
   },
   "outputs": [],
   "source": [
    "import numpy as np\n",
    "import pandas as pd\n",
    "import pickle\n",
    "from sklearn.model_selection import train_test_split\n",
    "from sklearn.preprocessing import LabelEncoder\n",
    "from sklearn.preprocessing import OneHotEncoder\n",
    "from sklearn.preprocessing import StandardScaler\n",
    "from sklearn.ensemble import RandomForestRegressor\n",
    "from sklearn import model_selection"
   ]
  },
  {
   "cell_type": "code",
   "execution_count": 2,
   "metadata": {
    "id": "rvxxuWJ6IiHp",
    "outputId": "37c5acc6-5da6-4ac3-94b2-cb61cdf5b00d"
   },
   "outputs": [
    {
     "data": {
      "text/html": [
       "<div>\n",
       "<style scoped>\n",
       "    .dataframe tbody tr th:only-of-type {\n",
       "        vertical-align: middle;\n",
       "    }\n",
       "\n",
       "    .dataframe tbody tr th {\n",
       "        vertical-align: top;\n",
       "    }\n",
       "\n",
       "    .dataframe thead th {\n",
       "        text-align: right;\n",
       "    }\n",
       "</style>\n",
       "<table border=\"1\" class=\"dataframe\">\n",
       "  <thead>\n",
       "    <tr style=\"text-align: right;\">\n",
       "      <th></th>\n",
       "      <th>h_type</th>\n",
       "      <th>location</th>\n",
       "      <th>society</th>\n",
       "      <th>size</th>\n",
       "      <th>bathroom</th>\n",
       "      <th>balcony</th>\n",
       "      <th>total_sqft</th>\n",
       "      <th>yr_built</th>\n",
       "      <th>furniture</th>\n",
       "      <th>sale_type</th>\n",
       "      <th>...</th>\n",
       "      <th>college</th>\n",
       "      <th>hospital</th>\n",
       "      <th>population</th>\n",
       "      <th>railway</th>\n",
       "      <th>airport</th>\n",
       "      <th>on_road</th>\n",
       "      <th>air_quality</th>\n",
       "      <th>restaurant</th>\n",
       "      <th>park</th>\n",
       "      <th>price</th>\n",
       "    </tr>\n",
       "  </thead>\n",
       "  <tbody>\n",
       "    <tr>\n",
       "      <th>0</th>\n",
       "      <td>apartment</td>\n",
       "      <td>Maneja</td>\n",
       "      <td>Bakeri Swara</td>\n",
       "      <td>3 BHK</td>\n",
       "      <td>3</td>\n",
       "      <td>1</td>\n",
       "      <td>1550.0</td>\n",
       "      <td>2011.0</td>\n",
       "      <td>0</td>\n",
       "      <td>new</td>\n",
       "      <td>...</td>\n",
       "      <td>0</td>\n",
       "      <td>1</td>\n",
       "      <td>2</td>\n",
       "      <td>0</td>\n",
       "      <td>0</td>\n",
       "      <td>1</td>\n",
       "      <td>1</td>\n",
       "      <td>1</td>\n",
       "      <td>1</td>\n",
       "      <td>4361705</td>\n",
       "    </tr>\n",
       "    <tr>\n",
       "      <th>1</th>\n",
       "      <td>apartment</td>\n",
       "      <td>Maneja</td>\n",
       "      <td>Bakeri Swara</td>\n",
       "      <td>3 BHK</td>\n",
       "      <td>3</td>\n",
       "      <td>1</td>\n",
       "      <td>1550.0</td>\n",
       "      <td>2012.0</td>\n",
       "      <td>1</td>\n",
       "      <td>new</td>\n",
       "      <td>...</td>\n",
       "      <td>0</td>\n",
       "      <td>1</td>\n",
       "      <td>2</td>\n",
       "      <td>0</td>\n",
       "      <td>0</td>\n",
       "      <td>1</td>\n",
       "      <td>1</td>\n",
       "      <td>1</td>\n",
       "      <td>1</td>\n",
       "      <td>5001905</td>\n",
       "    </tr>\n",
       "    <tr>\n",
       "      <th>2</th>\n",
       "      <td>apartment</td>\n",
       "      <td>Maneja</td>\n",
       "      <td>Bakeri Swara</td>\n",
       "      <td>3 BHK</td>\n",
       "      <td>3</td>\n",
       "      <td>1</td>\n",
       "      <td>1860.0</td>\n",
       "      <td>2010.0</td>\n",
       "      <td>1</td>\n",
       "      <td>new</td>\n",
       "      <td>...</td>\n",
       "      <td>0</td>\n",
       "      <td>1</td>\n",
       "      <td>2</td>\n",
       "      <td>0</td>\n",
       "      <td>0</td>\n",
       "      <td>1</td>\n",
       "      <td>1</td>\n",
       "      <td>1</td>\n",
       "      <td>1</td>\n",
       "      <td>5588795</td>\n",
       "    </tr>\n",
       "    <tr>\n",
       "      <th>3</th>\n",
       "      <td>apartment</td>\n",
       "      <td>Maneja</td>\n",
       "      <td>Bakeri Swara</td>\n",
       "      <td>2 BHK</td>\n",
       "      <td>2</td>\n",
       "      <td>1</td>\n",
       "      <td>1015.0</td>\n",
       "      <td>2016.0</td>\n",
       "      <td>1</td>\n",
       "      <td>new</td>\n",
       "      <td>...</td>\n",
       "      <td>0</td>\n",
       "      <td>1</td>\n",
       "      <td>2</td>\n",
       "      <td>0</td>\n",
       "      <td>0</td>\n",
       "      <td>1</td>\n",
       "      <td>1</td>\n",
       "      <td>1</td>\n",
       "      <td>1</td>\n",
       "      <td>3184740</td>\n",
       "    </tr>\n",
       "    <tr>\n",
       "      <th>4</th>\n",
       "      <td>apartment</td>\n",
       "      <td>Maneja</td>\n",
       "      <td>Bakeri Swara</td>\n",
       "      <td>2 BHK</td>\n",
       "      <td>2</td>\n",
       "      <td>1</td>\n",
       "      <td>1210.0</td>\n",
       "      <td>2019.0</td>\n",
       "      <td>0</td>\n",
       "      <td>new</td>\n",
       "      <td>...</td>\n",
       "      <td>0</td>\n",
       "      <td>1</td>\n",
       "      <td>2</td>\n",
       "      <td>0</td>\n",
       "      <td>0</td>\n",
       "      <td>1</td>\n",
       "      <td>1</td>\n",
       "      <td>1</td>\n",
       "      <td>1</td>\n",
       "      <td>3498895</td>\n",
       "    </tr>\n",
       "  </tbody>\n",
       "</table>\n",
       "<p>5 rows × 24 columns</p>\n",
       "</div>"
      ],
      "text/plain": [
       "      h_type location       society   size  bathroom  balcony  total_sqft  \\\n",
       "0  apartment   Maneja  Bakeri Swara  3 BHK         3        1      1550.0   \n",
       "1  apartment   Maneja  Bakeri Swara  3 BHK         3        1      1550.0   \n",
       "2  apartment   Maneja  Bakeri Swara  3 BHK         3        1      1860.0   \n",
       "3  apartment   Maneja  Bakeri Swara  2 BHK         2        1      1015.0   \n",
       "4  apartment   Maneja  Bakeri Swara  2 BHK         2        1      1210.0   \n",
       "\n",
       "   yr_built  furniture sale_type  ...  college  hospital  population  railway  \\\n",
       "0    2011.0          0       new  ...        0         1           2        0   \n",
       "1    2012.0          1       new  ...        0         1           2        0   \n",
       "2    2010.0          1       new  ...        0         1           2        0   \n",
       "3    2016.0          1       new  ...        0         1           2        0   \n",
       "4    2019.0          0       new  ...        0         1           2        0   \n",
       "\n",
       "   airport  on_road  air_quality  restaurant  park    price  \n",
       "0        0        1            1           1     1  4361705  \n",
       "1        0        1            1           1     1  5001905  \n",
       "2        0        1            1           1     1  5588795  \n",
       "3        0        1            1           1     1  3184740  \n",
       "4        0        1            1           1     1  3498895  \n",
       "\n",
       "[5 rows x 24 columns]"
      ]
     },
     "execution_count": 2,
     "metadata": {},
     "output_type": "execute_result"
    }
   ],
   "source": [
    "data = pd.read_csv(\"house_price_dataset_new.csv\")\n",
    "data.head()"
   ]
  },
  {
   "cell_type": "code",
   "execution_count": 3,
   "metadata": {
    "id": "5X_nGyPIIiHq",
    "outputId": "1d999997-83df-42d0-ba88-299dc6064d22"
   },
   "outputs": [
    {
     "data": {
      "text/html": [
       "<div>\n",
       "<style scoped>\n",
       "    .dataframe tbody tr th:only-of-type {\n",
       "        vertical-align: middle;\n",
       "    }\n",
       "\n",
       "    .dataframe tbody tr th {\n",
       "        vertical-align: top;\n",
       "    }\n",
       "\n",
       "    .dataframe thead th {\n",
       "        text-align: right;\n",
       "    }\n",
       "</style>\n",
       "<table border=\"1\" class=\"dataframe\">\n",
       "  <thead>\n",
       "    <tr style=\"text-align: right;\">\n",
       "      <th></th>\n",
       "      <th>h_type</th>\n",
       "      <th>location</th>\n",
       "      <th>size</th>\n",
       "      <th>bathroom</th>\n",
       "      <th>balcony</th>\n",
       "      <th>total_sqft</th>\n",
       "      <th>price</th>\n",
       "    </tr>\n",
       "  </thead>\n",
       "  <tbody>\n",
       "    <tr>\n",
       "      <th>0</th>\n",
       "      <td>apartment</td>\n",
       "      <td>Maneja</td>\n",
       "      <td>3 BHK</td>\n",
       "      <td>3</td>\n",
       "      <td>1</td>\n",
       "      <td>1550.0</td>\n",
       "      <td>4361705</td>\n",
       "    </tr>\n",
       "    <tr>\n",
       "      <th>1</th>\n",
       "      <td>apartment</td>\n",
       "      <td>Maneja</td>\n",
       "      <td>3 BHK</td>\n",
       "      <td>3</td>\n",
       "      <td>1</td>\n",
       "      <td>1550.0</td>\n",
       "      <td>5001905</td>\n",
       "    </tr>\n",
       "    <tr>\n",
       "      <th>2</th>\n",
       "      <td>apartment</td>\n",
       "      <td>Maneja</td>\n",
       "      <td>3 BHK</td>\n",
       "      <td>3</td>\n",
       "      <td>1</td>\n",
       "      <td>1860.0</td>\n",
       "      <td>5588795</td>\n",
       "    </tr>\n",
       "    <tr>\n",
       "      <th>3</th>\n",
       "      <td>apartment</td>\n",
       "      <td>Maneja</td>\n",
       "      <td>2 BHK</td>\n",
       "      <td>2</td>\n",
       "      <td>1</td>\n",
       "      <td>1015.0</td>\n",
       "      <td>3184740</td>\n",
       "    </tr>\n",
       "    <tr>\n",
       "      <th>4</th>\n",
       "      <td>apartment</td>\n",
       "      <td>Maneja</td>\n",
       "      <td>2 BHK</td>\n",
       "      <td>2</td>\n",
       "      <td>1</td>\n",
       "      <td>1210.0</td>\n",
       "      <td>3498895</td>\n",
       "    </tr>\n",
       "  </tbody>\n",
       "</table>\n",
       "</div>"
      ],
      "text/plain": [
       "      h_type location   size  bathroom  balcony  total_sqft    price\n",
       "0  apartment   Maneja  3 BHK         3        1      1550.0  4361705\n",
       "1  apartment   Maneja  3 BHK         3        1      1550.0  5001905\n",
       "2  apartment   Maneja  3 BHK         3        1      1860.0  5588795\n",
       "3  apartment   Maneja  2 BHK         2        1      1015.0  3184740\n",
       "4  apartment   Maneja  2 BHK         2        1      1210.0  3498895"
      ]
     },
     "execution_count": 3,
     "metadata": {},
     "output_type": "execute_result"
    }
   ],
   "source": [
    "data = data.drop(['society', 'yr_built', 'furniture', 'sale_type', 'amenities', 'market', 'office', 'school', 'college', 'hospital', 'population', 'railway', 'airport', 'on_road', 'air_quality', 'restaurant', 'park'], axis=1)\n",
    "data.head()"
   ]
  },
  {
   "cell_type": "code",
   "execution_count": 4,
   "metadata": {
    "id": "kpdtsLuNIiHq",
    "outputId": "8dec2e64-ce23-4c5b-baa4-29353889ad7f"
   },
   "outputs": [
    {
     "data": {
      "text/plain": [
       "h_type        0\n",
       "location      0\n",
       "size          0\n",
       "bathroom      0\n",
       "balcony       0\n",
       "total_sqft    0\n",
       "price         0\n",
       "dtype: int64"
      ]
     },
     "execution_count": 4,
     "metadata": {},
     "output_type": "execute_result"
    }
   ],
   "source": [
    "data.isnull().sum()"
   ]
  },
  {
   "cell_type": "code",
   "execution_count": 5,
   "metadata": {
    "id": "Se26upRRIiHr",
    "outputId": "df019bce-ed1b-4aa4-ba46-5f4c50db3380"
   },
   "outputs": [
    {
     "data": {
      "text/plain": [
       "array([['apartment', 'Maneja', '3 BHK', 3, 1, 1550.0],\n",
       "       ['apartment', 'Maneja', '3 BHK', 3, 1, 1550.0],\n",
       "       ['apartment', 'Maneja', '3 BHK', 3, 1, 1860.0],\n",
       "       ...,\n",
       "       ['apartment', 'Gotri', '3 BHK', 3, 3, 1550.0],\n",
       "       ['apartment', 'Gotri', '3 BHK', 3, 2, 1750.0],\n",
       "       ['apartment', 'Gotri', '2 BHK', 2, 3, 1200.0]], dtype=object)"
      ]
     },
     "execution_count": 5,
     "metadata": {},
     "output_type": "execute_result"
    }
   ],
   "source": [
    "df = data.iloc[ : , :-1].values\n",
    "df"
   ]
  },
  {
   "cell_type": "code",
   "execution_count": 6,
   "metadata": {
    "id": "gaApIKrUIiHr"
   },
   "outputs": [],
   "source": [
    "label_encoder = LabelEncoder()"
   ]
  },
  {
   "cell_type": "code",
   "execution_count": 7,
   "metadata": {
    "id": "VRBp6RH-IiHr",
    "outputId": "99dcd153-355f-4d91-a845-9a07f4d6ae2d"
   },
   "outputs": [
    {
     "data": {
      "text/plain": [
       "array([[0, 'Maneja', '3 BHK', 3, 1, 1550.0],\n",
       "       [0, 'Maneja', '3 BHK', 3, 1, 1550.0],\n",
       "       [0, 'Maneja', '3 BHK', 3, 1, 1860.0],\n",
       "       ...,\n",
       "       [0, 'Gotri', '3 BHK', 3, 3, 1550.0],\n",
       "       [0, 'Gotri', '3 BHK', 3, 2, 1750.0],\n",
       "       [0, 'Gotri', '2 BHK', 2, 3, 1200.0]], dtype=object)"
      ]
     },
     "execution_count": 7,
     "metadata": {},
     "output_type": "execute_result"
    }
   ],
   "source": [
    "df[ : ,0] = label_encoder.fit_transform(df[ : ,0])\n",
    "df"
   ]
  },
  {
   "cell_type": "code",
   "execution_count": 8,
   "metadata": {
    "id": "BdwkLDpxIiHs",
    "outputId": "89382acd-0cf4-43bb-b304-a1afd438a0b3"
   },
   "outputs": [
    {
     "data": {
      "text/plain": [
       "{'apartment': 0,\n",
       " 'duplex': 1,\n",
       " 'pent house': 2,\n",
       " 'tenament': 3,\n",
       " 'triplex': 4,\n",
       " 'villa': 5}"
      ]
     },
     "execution_count": 8,
     "metadata": {},
     "output_type": "execute_result"
    }
   ],
   "source": [
    "mapping = dict(zip(label_encoder.classes_, label_encoder.transform(label_encoder.classes_)))\n",
    "mapping"
   ]
  },
  {
   "cell_type": "code",
   "execution_count": 9,
   "metadata": {
    "id": "51PLD4ugIiHs",
    "outputId": "19d1e9ef-74ba-47bf-a3f0-f8259ff90549"
   },
   "outputs": [
    {
     "data": {
      "text/plain": [
       "array([[0, 15, '3 BHK', 3, 1, 1550.0],\n",
       "       [0, 15, '3 BHK', 3, 1, 1550.0],\n",
       "       [0, 15, '3 BHK', 3, 1, 1860.0],\n",
       "       ...,\n",
       "       [0, 8, '3 BHK', 3, 3, 1550.0],\n",
       "       [0, 8, '3 BHK', 3, 2, 1750.0],\n",
       "       [0, 8, '2 BHK', 2, 3, 1200.0]], dtype=object)"
      ]
     },
     "execution_count": 9,
     "metadata": {},
     "output_type": "execute_result"
    }
   ],
   "source": [
    "df[ : ,1] = label_encoder.fit_transform(df[ : ,1])\n",
    "df"
   ]
  },
  {
   "cell_type": "code",
   "execution_count": 10,
   "metadata": {
    "id": "YmzBzk3VIiHt",
    "outputId": "6aea959c-13ff-485d-9ace-a454201200fb"
   },
   "outputs": [
    {
     "data": {
      "text/plain": [
       "{'Ajwa Road': 0,\n",
       " 'Akota': 1,\n",
       " 'Alkapuri': 2,\n",
       " 'Atladra': 3,\n",
       " 'Bhayli': 4,\n",
       " 'Chhani': 5,\n",
       " 'Fatehgunj': 6,\n",
       " 'Gorwa': 7,\n",
       " 'Gotri': 8,\n",
       " 'Harni': 9,\n",
       " 'Karelibaug': 10,\n",
       " 'Khodiyar Nagar': 11,\n",
       " 'Laxmipura': 12,\n",
       " 'Madhav Pura': 13,\n",
       " 'Mandvi': 14,\n",
       " 'Maneja': 15,\n",
       " 'Manjalpur': 16,\n",
       " 'Navapura': 17,\n",
       " 'New Alkapuri': 18,\n",
       " 'New Karelibaugh': 19,\n",
       " 'New Sama': 20,\n",
       " 'New VIP Road': 21,\n",
       " 'Sama': 22,\n",
       " 'Sayajipura': 23,\n",
       " 'Soma Talav': 24,\n",
       " 'Vasant Vihar': 25,\n",
       " 'Vasna Road': 26,\n",
       " 'Vasna-Bhayli Road': 27,\n",
       " 'Waghodia Road': 28}"
      ]
     },
     "execution_count": 10,
     "metadata": {},
     "output_type": "execute_result"
    }
   ],
   "source": [
    "mapping = dict(zip(label_encoder.classes_, label_encoder.transform(label_encoder.classes_)))\n",
    "mapping"
   ]
  },
  {
   "cell_type": "code",
   "execution_count": 11,
   "metadata": {
    "id": "Sk3iN4YYIiHt",
    "outputId": "3706c261-4946-4d76-ef49-2676707b842f"
   },
   "outputs": [
    {
     "data": {
      "text/plain": [
       "array([[0, 15, 2, 3, 1, 1550.0],\n",
       "       [0, 15, 2, 3, 1, 1550.0],\n",
       "       [0, 15, 2, 3, 1, 1860.0],\n",
       "       ...,\n",
       "       [0, 8, 2, 3, 3, 1550.0],\n",
       "       [0, 8, 2, 3, 2, 1750.0],\n",
       "       [0, 8, 1, 2, 3, 1200.0]], dtype=object)"
      ]
     },
     "execution_count": 11,
     "metadata": {},
     "output_type": "execute_result"
    }
   ],
   "source": [
    "df[ : ,2] = label_encoder.fit_transform(df[ : ,2])\n",
    "df"
   ]
  },
  {
   "cell_type": "code",
   "execution_count": 12,
   "metadata": {
    "id": "PbAgNIbVIiHt",
    "outputId": "ef0a973d-2f1e-484a-e0a3-38a14cfba702"
   },
   "outputs": [
    {
     "data": {
      "text/plain": [
       "{'1 BHK': 0, '2 BHK': 1, '3 BHK': 2, '4 BHK': 3, '5 BHK': 4}"
      ]
     },
     "execution_count": 12,
     "metadata": {},
     "output_type": "execute_result"
    }
   ],
   "source": [
    "mapping = dict(zip(label_encoder.classes_, label_encoder.transform(label_encoder.classes_)))\n",
    "mapping"
   ]
  },
  {
   "cell_type": "code",
   "execution_count": 13,
   "metadata": {
    "id": "WgrnblzKIiHu"
   },
   "outputs": [],
   "source": [
    "y = data.price.values\n",
    "X = df"
   ]
  },
  {
   "cell_type": "code",
   "execution_count": 14,
   "metadata": {
    "id": "pOeFxuxlIiHu"
   },
   "outputs": [],
   "source": [
    "X_train, X_val, y_train, y_val = train_test_split(X, y,test_size=0.2)"
   ]
  },
  {
   "cell_type": "code",
   "execution_count": 15,
   "metadata": {
    "id": "yCGUJdVbIiHu"
   },
   "outputs": [],
   "source": [
    "standard_x = StandardScaler()"
   ]
  },
  {
   "cell_type": "code",
   "execution_count": 16,
   "metadata": {
    "id": "Knb2XKP0IiHu"
   },
   "outputs": [],
   "source": [
    "X_train = standard_x.fit_transform(X_train)\n",
    "X_val = standard_x.transform(X_val)"
   ]
  },
  {
   "cell_type": "code",
   "execution_count": 17,
   "metadata": {
    "id": "oiVzSzsYIiHu",
    "outputId": "51bebd2f-b583-493e-d204-83a07a75f834"
   },
   "outputs": [
    {
     "name": "stdout",
     "output_type": "stream",
     "text": [
      "Train_Shape:  (272, 6)\n",
      "\n",
      "X_train:\n"
     ]
    },
    {
     "data": {
      "text/plain": [
       "array([[ 0.42570195,  1.56164038, -0.87214457, -0.68451085,  0.46550312,\n",
       "        -0.30954234],\n",
       "       [ 3.7578151 , -1.0231437 ,  1.51200943,  0.36739283, -0.63551296,\n",
       "         1.00737405],\n",
       "       [-0.40732633, -1.23854237,  0.31993243,  0.36739283, -0.63551296,\n",
       "         0.72983635],\n",
       "       ...,\n",
       "       [-0.40732633,  1.56164038, -0.87214457, -0.68451085,  0.46550312,\n",
       "        -1.08387252],\n",
       "       [-0.40732633, -1.23854237,  1.51200943,  3.52310387,  0.46550312,\n",
       "         4.26844202],\n",
       "       [-0.40732633, -1.23854237, -0.87214457, -0.68451085,  2.66753528,\n",
       "        -0.65785215]])"
      ]
     },
     "execution_count": 17,
     "metadata": {},
     "output_type": "execute_result"
    }
   ],
   "source": [
    "print('Train_Shape: ',X_train.shape)\n",
    "print(\"\\nX_train:\")\n",
    "X_train"
   ]
  },
  {
   "cell_type": "code",
   "execution_count": 18,
   "metadata": {
    "id": "Iei7THayIiHv",
    "outputId": "782da070-b470-4606-ca0c-d3fe2e9651e8"
   },
   "outputs": [
    {
     "name": "stdout",
     "output_type": "stream",
     "text": [
      "Val_Shape:  (68, 6)\n",
      "\n",
      "X_val:\n"
     ]
    },
    {
     "data": {
      "text/plain": [
       "array([[-0.40732633, -1.23854237,  0.31993243,  1.41929651,  1.5665192 ,\n",
       "         0.38985267],\n",
       "       [-0.40732633, -1.0231437 ,  0.31993243,  0.36739283,  0.46550312,\n",
       "         0.78534389],\n",
       "       [-0.40732633,  1.45394105,  1.51200943,  1.41929651,  1.5665192 ,\n",
       "         1.1461429 ],\n",
       "       [-0.40732633, -0.48464702,  0.31993243,  0.36739283, -0.63551296,\n",
       "         2.39506255],\n",
       "       [-0.40732633, -0.91544436, -0.87214457, -0.68451085, -1.73652904,\n",
       "        -0.0611461 ],\n",
       "       [-0.40732633, -1.45394105, -0.87214457, -0.68451085,  0.46550312,\n",
       "        -0.38031445],\n",
       "       [-0.40732633, -0.91544436,  0.31993243,  0.36739283, -0.63551296,\n",
       "         1.09063536],\n",
       "       [ 3.7578151 , -0.37694768,  1.51200943,  1.41929651,  0.46550312,\n",
       "        -0.43582199],\n",
       "       [ 3.7578151 , -1.23854237,  0.31993243,  0.36739283, -0.63551296,\n",
       "         1.7012183 ],\n",
       "       [-0.40732633, -1.34624171,  0.31993243,  0.36739283, -0.63551296,\n",
       "         0.20945316],\n",
       "       [-0.40732633, -1.23854237,  0.31993243, -0.68451085, -0.63551296,\n",
       "        -0.10277675],\n",
       "       [-0.40732633,  1.45394105,  0.31993243,  0.36739283, -0.63551296,\n",
       "         0.76591625],\n",
       "       [-0.40732633, -1.0231437 , -0.87214457, -0.68451085, -0.63551296,\n",
       "        -0.72723658],\n",
       "       [-0.40732633, -0.80774503,  0.31993243, -0.68451085, -0.63551296,\n",
       "        -0.57459084],\n",
       "       [-0.40732633, -0.48464702, -0.87214457, -0.68451085, -0.63551296,\n",
       "        -0.31093003],\n",
       "       [-0.40732633, -0.48464702,  0.31993243,  0.36739283,  0.46550312,\n",
       "         0.80060846],\n",
       "       [ 1.25873024, -0.37694768,  1.51200943,  1.41929651,  0.46550312,\n",
       "         5.22733478],\n",
       "       [-0.40732633,  0.48464702, -0.87214457, -0.68451085, -0.63551296,\n",
       "        -0.07502298],\n",
       "       [-0.40732633, -1.34624171,  0.31993243,  0.36739283,  0.46550312,\n",
       "        -0.03339233],\n",
       "       [-0.40732633, -0.48464702, -0.87214457, -0.68451085, -0.63551296,\n",
       "        -0.52324637],\n",
       "       [-0.40732633, -0.48464702, -0.87214457, -0.68451085, -1.73652904,\n",
       "        -0.30399158],\n",
       "       [-0.40732633, -1.0231437 ,  0.31993243, -0.68451085, -0.63551296,\n",
       "        -0.38031445],\n",
       "       [-0.40732633, -0.80774503,  0.31993243,  0.36739283, -0.63551296,\n",
       "        -0.38031445],\n",
       "       [-0.40732633, -0.48464702,  1.51200943,  1.41929651,  1.5665192 ,\n",
       "         0.03737979],\n",
       "       [ 0.42570195,  1.56164038,  0.31993243,  0.36739283,  0.46550312,\n",
       "         0.12896723],\n",
       "       [-0.40732633, -1.45394105,  0.31993243, -0.68451085, -0.63551296,\n",
       "         0.45229865],\n",
       "       [-0.40732633,  0.59234635,  1.51200943,  1.41929651,  0.46550312,\n",
       "        -0.57736622],\n",
       "       [-0.40732633, -0.05384967, -0.87214457, -0.68451085,  1.5665192 ,\n",
       "        -0.26929937],\n",
       "       [ 3.7578151 , -1.0231437 ,  1.51200943,  1.41929651,  0.46550312,\n",
       "         0.29271447],\n",
       "       [ 0.42570195,  1.56164038, -0.87214457, -0.68451085, -0.63551296,\n",
       "        -0.69254436],\n",
       "       [-0.40732633,  1.34624171,  0.31993243,  0.36739283, -0.63551296,\n",
       "         0.3135298 ],\n",
       "       [-0.40732633, -1.13084304,  1.51200943,  1.41929651,  1.5665192 ,\n",
       "         0.8686052 ],\n",
       "       [-0.40732633, -0.80774503, -0.87214457, -0.68451085,  1.5665192 ,\n",
       "        -0.42888355],\n",
       "       [ 0.42570195,  0.59234635,  0.31993243,  0.36739283,  0.46550312,\n",
       "        -0.17216118],\n",
       "       [ 0.42570195,  1.23854237,  0.31993243,  0.36739283, -0.63551296,\n",
       "         0.97268184],\n",
       "       [-0.40732633,  0.80774503,  0.31993243,  0.36739283, -0.63551296,\n",
       "        -0.46357576],\n",
       "       [-0.40732633, -1.34624171,  1.51200943,  1.41929651,  0.46550312,\n",
       "         1.28491175],\n",
       "       [ 1.25873024,  0.80774503,  0.31993243,  0.36739283,  0.46550312,\n",
       "         1.49306502],\n",
       "       [-0.40732633, -0.59234635,  0.31993243,  0.36739283,  1.5665192 ,\n",
       "         0.10537652],\n",
       "       [ 0.42570195,  1.56164038,  1.51200943,  0.36739283,  0.46550312,\n",
       "         0.11925341],\n",
       "       [-0.40732633, -1.13084304, -0.87214457, -0.68451085, -0.63551296,\n",
       "        -0.5190833 ],\n",
       "       [-0.40732633,  1.0231437 , -2.06422157, -1.73641453, -0.63551296,\n",
       "        -1.14354313],\n",
       "       [-0.40732633, -1.34624171, -0.87214457, -0.68451085, -0.63551296,\n",
       "        -0.796621  ],\n",
       "       [ 0.42570195,  1.56164038, -2.06422157, -1.73641453, -0.63551296,\n",
       "        -1.29618886],\n",
       "       [-0.40732633,  0.16154901,  0.31993243,  0.36739283, -0.63551296,\n",
       "         0.53555996],\n",
       "       [-0.40732633, -0.16154901, -0.87214457, -0.68451085,  0.46550312,\n",
       "        -0.5190833 ],\n",
       "       [-0.40732633,  0.48464702, -0.87214457, -0.68451085,  1.5665192 ,\n",
       "         0.05680743],\n",
       "       [-0.40732633, -0.48464702, -0.87214457, -0.68451085, -1.73652904,\n",
       "        -0.65785215],\n",
       "       [-0.40732633, -1.45394105, -0.87214457, -0.68451085, -0.63551296,\n",
       "        -0.44969888],\n",
       "       [-0.40732633, -0.80774503, -0.87214457, -0.68451085, -0.63551296,\n",
       "        -0.86600543],\n",
       "       [-0.40732633, -0.05384967,  0.31993243,  0.36739283,  1.5665192 ,\n",
       "         0.3135298 ],\n",
       "       [-0.40732633,  0.59234635, -0.87214457, -0.68451085, -0.63551296,\n",
       "        -1.06028182],\n",
       "       [-0.40732633, -1.45394105, -0.87214457, -0.68451085, -0.63551296,\n",
       "        -0.22766872],\n",
       "       [ 0.42570195, -1.45394105, -2.06422157, -1.73641453, -0.63551296,\n",
       "        -1.3516964 ],\n",
       "       [-0.40732633,  0.48464702,  0.31993243,  0.36739283,  3.76855136,\n",
       "         0.45229865],\n",
       "       [-0.40732633, -0.80774503,  0.31993243,  0.36739283,  0.46550312,\n",
       "         0.0359921 ],\n",
       "       [-0.40732633, -1.0231437 , -0.87214457, -0.68451085,  0.46550312,\n",
       "        -0.10277675],\n",
       "       [-0.40732633,  0.80774503, -0.87214457, -0.68451085, -0.63551296,\n",
       "        -0.58846773],\n",
       "       [-0.40732633,  0.91544436,  0.31993243, -0.68451085, -0.63551296,\n",
       "         0.0359921 ],\n",
       "       [ 2.09175853,  1.0231437 , -2.06422157, -1.73641453, -1.73652904,\n",
       "        -1.04640493],\n",
       "       [-0.40732633,  0.16154901, -0.87214457, -0.68451085, -0.63551296,\n",
       "        -0.63703682],\n",
       "       [-0.40732633,  0.48464702,  1.51200943,  1.41929651, -0.63551296,\n",
       "         1.70815674],\n",
       "       [-0.40732633, -0.48464702,  0.31993243,  0.36739283, -1.73652904,\n",
       "        -0.76192879],\n",
       "       [-0.40732633, -0.48464702, -0.87214457, -0.68451085,  0.46550312,\n",
       "        -0.63703682],\n",
       "       [-0.40732633,  1.13084304, -2.06422157, -1.73641453, -0.63551296,\n",
       "        -1.45160997],\n",
       "       [-0.40732633,  0.48464702, -0.87214457, -0.68451085,  1.5665192 ,\n",
       "        -0.18603806],\n",
       "       [-0.40732633, -0.91544436, -0.87214457, -0.68451085, -1.73652904,\n",
       "        -0.04033077],\n",
       "       [ 0.42570195, -1.45394105, -0.87214457, -0.68451085, -0.63551296,\n",
       "        -0.796621  ]])"
      ]
     },
     "execution_count": 18,
     "metadata": {},
     "output_type": "execute_result"
    }
   ],
   "source": [
    "print('Val_Shape: ',X_val.shape)\n",
    "print(\"\\nX_val:\")\n",
    "X_val"
   ]
  },
  {
   "cell_type": "code",
   "execution_count": 19,
   "metadata": {
    "id": "EdkaL0LfIiHv"
   },
   "outputs": [],
   "source": [
    "regressor = RandomForestRegressor(n_estimators = 10, random_state = 0)"
   ]
  },
  {
   "cell_type": "code",
   "execution_count": 20,
   "metadata": {
    "id": "eS2Qe4LDIiHv",
    "outputId": "eb8bac27-d4fd-4ffa-ae6f-56cac1f77e2a"
   },
   "outputs": [
    {
     "data": {
      "text/html": [
       "<style>#sk-container-id-1 {\n",
       "  /* Definition of color scheme common for light and dark mode */\n",
       "  --sklearn-color-text: black;\n",
       "  --sklearn-color-line: gray;\n",
       "  /* Definition of color scheme for unfitted estimators */\n",
       "  --sklearn-color-unfitted-level-0: #fff5e6;\n",
       "  --sklearn-color-unfitted-level-1: #f6e4d2;\n",
       "  --sklearn-color-unfitted-level-2: #ffe0b3;\n",
       "  --sklearn-color-unfitted-level-3: chocolate;\n",
       "  /* Definition of color scheme for fitted estimators */\n",
       "  --sklearn-color-fitted-level-0: #f0f8ff;\n",
       "  --sklearn-color-fitted-level-1: #d4ebff;\n",
       "  --sklearn-color-fitted-level-2: #b3dbfd;\n",
       "  --sklearn-color-fitted-level-3: cornflowerblue;\n",
       "\n",
       "  /* Specific color for light theme */\n",
       "  --sklearn-color-text-on-default-background: var(--sg-text-color, var(--theme-code-foreground, var(--jp-content-font-color1, black)));\n",
       "  --sklearn-color-background: var(--sg-background-color, var(--theme-background, var(--jp-layout-color0, white)));\n",
       "  --sklearn-color-border-box: var(--sg-text-color, var(--theme-code-foreground, var(--jp-content-font-color1, black)));\n",
       "  --sklearn-color-icon: #696969;\n",
       "\n",
       "  @media (prefers-color-scheme: dark) {\n",
       "    /* Redefinition of color scheme for dark theme */\n",
       "    --sklearn-color-text-on-default-background: var(--sg-text-color, var(--theme-code-foreground, var(--jp-content-font-color1, white)));\n",
       "    --sklearn-color-background: var(--sg-background-color, var(--theme-background, var(--jp-layout-color0, #111)));\n",
       "    --sklearn-color-border-box: var(--sg-text-color, var(--theme-code-foreground, var(--jp-content-font-color1, white)));\n",
       "    --sklearn-color-icon: #878787;\n",
       "  }\n",
       "}\n",
       "\n",
       "#sk-container-id-1 {\n",
       "  color: var(--sklearn-color-text);\n",
       "}\n",
       "\n",
       "#sk-container-id-1 pre {\n",
       "  padding: 0;\n",
       "}\n",
       "\n",
       "#sk-container-id-1 input.sk-hidden--visually {\n",
       "  border: 0;\n",
       "  clip: rect(1px 1px 1px 1px);\n",
       "  clip: rect(1px, 1px, 1px, 1px);\n",
       "  height: 1px;\n",
       "  margin: -1px;\n",
       "  overflow: hidden;\n",
       "  padding: 0;\n",
       "  position: absolute;\n",
       "  width: 1px;\n",
       "}\n",
       "\n",
       "#sk-container-id-1 div.sk-dashed-wrapped {\n",
       "  border: 1px dashed var(--sklearn-color-line);\n",
       "  margin: 0 0.4em 0.5em 0.4em;\n",
       "  box-sizing: border-box;\n",
       "  padding-bottom: 0.4em;\n",
       "  background-color: var(--sklearn-color-background);\n",
       "}\n",
       "\n",
       "#sk-container-id-1 div.sk-container {\n",
       "  /* jupyter's `normalize.less` sets `[hidden] { display: none; }`\n",
       "     but bootstrap.min.css set `[hidden] { display: none !important; }`\n",
       "     so we also need the `!important` here to be able to override the\n",
       "     default hidden behavior on the sphinx rendered scikit-learn.org.\n",
       "     See: https://github.com/scikit-learn/scikit-learn/issues/21755 */\n",
       "  display: inline-block !important;\n",
       "  position: relative;\n",
       "}\n",
       "\n",
       "#sk-container-id-1 div.sk-text-repr-fallback {\n",
       "  display: none;\n",
       "}\n",
       "\n",
       "div.sk-parallel-item,\n",
       "div.sk-serial,\n",
       "div.sk-item {\n",
       "  /* draw centered vertical line to link estimators */\n",
       "  background-image: linear-gradient(var(--sklearn-color-text-on-default-background), var(--sklearn-color-text-on-default-background));\n",
       "  background-size: 2px 100%;\n",
       "  background-repeat: no-repeat;\n",
       "  background-position: center center;\n",
       "}\n",
       "\n",
       "/* Parallel-specific style estimator block */\n",
       "\n",
       "#sk-container-id-1 div.sk-parallel-item::after {\n",
       "  content: \"\";\n",
       "  width: 100%;\n",
       "  border-bottom: 2px solid var(--sklearn-color-text-on-default-background);\n",
       "  flex-grow: 1;\n",
       "}\n",
       "\n",
       "#sk-container-id-1 div.sk-parallel {\n",
       "  display: flex;\n",
       "  align-items: stretch;\n",
       "  justify-content: center;\n",
       "  background-color: var(--sklearn-color-background);\n",
       "  position: relative;\n",
       "}\n",
       "\n",
       "#sk-container-id-1 div.sk-parallel-item {\n",
       "  display: flex;\n",
       "  flex-direction: column;\n",
       "}\n",
       "\n",
       "#sk-container-id-1 div.sk-parallel-item:first-child::after {\n",
       "  align-self: flex-end;\n",
       "  width: 50%;\n",
       "}\n",
       "\n",
       "#sk-container-id-1 div.sk-parallel-item:last-child::after {\n",
       "  align-self: flex-start;\n",
       "  width: 50%;\n",
       "}\n",
       "\n",
       "#sk-container-id-1 div.sk-parallel-item:only-child::after {\n",
       "  width: 0;\n",
       "}\n",
       "\n",
       "/* Serial-specific style estimator block */\n",
       "\n",
       "#sk-container-id-1 div.sk-serial {\n",
       "  display: flex;\n",
       "  flex-direction: column;\n",
       "  align-items: center;\n",
       "  background-color: var(--sklearn-color-background);\n",
       "  padding-right: 1em;\n",
       "  padding-left: 1em;\n",
       "}\n",
       "\n",
       "\n",
       "/* Toggleable style: style used for estimator/Pipeline/ColumnTransformer box that is\n",
       "clickable and can be expanded/collapsed.\n",
       "- Pipeline and ColumnTransformer use this feature and define the default style\n",
       "- Estimators will overwrite some part of the style using the `sk-estimator` class\n",
       "*/\n",
       "\n",
       "/* Pipeline and ColumnTransformer style (default) */\n",
       "\n",
       "#sk-container-id-1 div.sk-toggleable {\n",
       "  /* Default theme specific background. It is overwritten whether we have a\n",
       "  specific estimator or a Pipeline/ColumnTransformer */\n",
       "  background-color: var(--sklearn-color-background);\n",
       "}\n",
       "\n",
       "/* Toggleable label */\n",
       "#sk-container-id-1 label.sk-toggleable__label {\n",
       "  cursor: pointer;\n",
       "  display: block;\n",
       "  width: 100%;\n",
       "  margin-bottom: 0;\n",
       "  padding: 0.5em;\n",
       "  box-sizing: border-box;\n",
       "  text-align: center;\n",
       "}\n",
       "\n",
       "#sk-container-id-1 label.sk-toggleable__label-arrow:before {\n",
       "  /* Arrow on the left of the label */\n",
       "  content: \"▸\";\n",
       "  float: left;\n",
       "  margin-right: 0.25em;\n",
       "  color: var(--sklearn-color-icon);\n",
       "}\n",
       "\n",
       "#sk-container-id-1 label.sk-toggleable__label-arrow:hover:before {\n",
       "  color: var(--sklearn-color-text);\n",
       "}\n",
       "\n",
       "/* Toggleable content - dropdown */\n",
       "\n",
       "#sk-container-id-1 div.sk-toggleable__content {\n",
       "  max-height: 0;\n",
       "  max-width: 0;\n",
       "  overflow: hidden;\n",
       "  text-align: left;\n",
       "  /* unfitted */\n",
       "  background-color: var(--sklearn-color-unfitted-level-0);\n",
       "}\n",
       "\n",
       "#sk-container-id-1 div.sk-toggleable__content.fitted {\n",
       "  /* fitted */\n",
       "  background-color: var(--sklearn-color-fitted-level-0);\n",
       "}\n",
       "\n",
       "#sk-container-id-1 div.sk-toggleable__content pre {\n",
       "  margin: 0.2em;\n",
       "  border-radius: 0.25em;\n",
       "  color: var(--sklearn-color-text);\n",
       "  /* unfitted */\n",
       "  background-color: var(--sklearn-color-unfitted-level-0);\n",
       "}\n",
       "\n",
       "#sk-container-id-1 div.sk-toggleable__content.fitted pre {\n",
       "  /* unfitted */\n",
       "  background-color: var(--sklearn-color-fitted-level-0);\n",
       "}\n",
       "\n",
       "#sk-container-id-1 input.sk-toggleable__control:checked~div.sk-toggleable__content {\n",
       "  /* Expand drop-down */\n",
       "  max-height: 200px;\n",
       "  max-width: 100%;\n",
       "  overflow: auto;\n",
       "}\n",
       "\n",
       "#sk-container-id-1 input.sk-toggleable__control:checked~label.sk-toggleable__label-arrow:before {\n",
       "  content: \"▾\";\n",
       "}\n",
       "\n",
       "/* Pipeline/ColumnTransformer-specific style */\n",
       "\n",
       "#sk-container-id-1 div.sk-label input.sk-toggleable__control:checked~label.sk-toggleable__label {\n",
       "  color: var(--sklearn-color-text);\n",
       "  background-color: var(--sklearn-color-unfitted-level-2);\n",
       "}\n",
       "\n",
       "#sk-container-id-1 div.sk-label.fitted input.sk-toggleable__control:checked~label.sk-toggleable__label {\n",
       "  background-color: var(--sklearn-color-fitted-level-2);\n",
       "}\n",
       "\n",
       "/* Estimator-specific style */\n",
       "\n",
       "/* Colorize estimator box */\n",
       "#sk-container-id-1 div.sk-estimator input.sk-toggleable__control:checked~label.sk-toggleable__label {\n",
       "  /* unfitted */\n",
       "  background-color: var(--sklearn-color-unfitted-level-2);\n",
       "}\n",
       "\n",
       "#sk-container-id-1 div.sk-estimator.fitted input.sk-toggleable__control:checked~label.sk-toggleable__label {\n",
       "  /* fitted */\n",
       "  background-color: var(--sklearn-color-fitted-level-2);\n",
       "}\n",
       "\n",
       "#sk-container-id-1 div.sk-label label.sk-toggleable__label,\n",
       "#sk-container-id-1 div.sk-label label {\n",
       "  /* The background is the default theme color */\n",
       "  color: var(--sklearn-color-text-on-default-background);\n",
       "}\n",
       "\n",
       "/* On hover, darken the color of the background */\n",
       "#sk-container-id-1 div.sk-label:hover label.sk-toggleable__label {\n",
       "  color: var(--sklearn-color-text);\n",
       "  background-color: var(--sklearn-color-unfitted-level-2);\n",
       "}\n",
       "\n",
       "/* Label box, darken color on hover, fitted */\n",
       "#sk-container-id-1 div.sk-label.fitted:hover label.sk-toggleable__label.fitted {\n",
       "  color: var(--sklearn-color-text);\n",
       "  background-color: var(--sklearn-color-fitted-level-2);\n",
       "}\n",
       "\n",
       "/* Estimator label */\n",
       "\n",
       "#sk-container-id-1 div.sk-label label {\n",
       "  font-family: monospace;\n",
       "  font-weight: bold;\n",
       "  display: inline-block;\n",
       "  line-height: 1.2em;\n",
       "}\n",
       "\n",
       "#sk-container-id-1 div.sk-label-container {\n",
       "  text-align: center;\n",
       "}\n",
       "\n",
       "/* Estimator-specific */\n",
       "#sk-container-id-1 div.sk-estimator {\n",
       "  font-family: monospace;\n",
       "  border: 1px dotted var(--sklearn-color-border-box);\n",
       "  border-radius: 0.25em;\n",
       "  box-sizing: border-box;\n",
       "  margin-bottom: 0.5em;\n",
       "  /* unfitted */\n",
       "  background-color: var(--sklearn-color-unfitted-level-0);\n",
       "}\n",
       "\n",
       "#sk-container-id-1 div.sk-estimator.fitted {\n",
       "  /* fitted */\n",
       "  background-color: var(--sklearn-color-fitted-level-0);\n",
       "}\n",
       "\n",
       "/* on hover */\n",
       "#sk-container-id-1 div.sk-estimator:hover {\n",
       "  /* unfitted */\n",
       "  background-color: var(--sklearn-color-unfitted-level-2);\n",
       "}\n",
       "\n",
       "#sk-container-id-1 div.sk-estimator.fitted:hover {\n",
       "  /* fitted */\n",
       "  background-color: var(--sklearn-color-fitted-level-2);\n",
       "}\n",
       "\n",
       "/* Specification for estimator info (e.g. \"i\" and \"?\") */\n",
       "\n",
       "/* Common style for \"i\" and \"?\" */\n",
       "\n",
       ".sk-estimator-doc-link,\n",
       "a:link.sk-estimator-doc-link,\n",
       "a:visited.sk-estimator-doc-link {\n",
       "  float: right;\n",
       "  font-size: smaller;\n",
       "  line-height: 1em;\n",
       "  font-family: monospace;\n",
       "  background-color: var(--sklearn-color-background);\n",
       "  border-radius: 1em;\n",
       "  height: 1em;\n",
       "  width: 1em;\n",
       "  text-decoration: none !important;\n",
       "  margin-left: 1ex;\n",
       "  /* unfitted */\n",
       "  border: var(--sklearn-color-unfitted-level-1) 1pt solid;\n",
       "  color: var(--sklearn-color-unfitted-level-1);\n",
       "}\n",
       "\n",
       ".sk-estimator-doc-link.fitted,\n",
       "a:link.sk-estimator-doc-link.fitted,\n",
       "a:visited.sk-estimator-doc-link.fitted {\n",
       "  /* fitted */\n",
       "  border: var(--sklearn-color-fitted-level-1) 1pt solid;\n",
       "  color: var(--sklearn-color-fitted-level-1);\n",
       "}\n",
       "\n",
       "/* On hover */\n",
       "div.sk-estimator:hover .sk-estimator-doc-link:hover,\n",
       ".sk-estimator-doc-link:hover,\n",
       "div.sk-label-container:hover .sk-estimator-doc-link:hover,\n",
       ".sk-estimator-doc-link:hover {\n",
       "  /* unfitted */\n",
       "  background-color: var(--sklearn-color-unfitted-level-3);\n",
       "  color: var(--sklearn-color-background);\n",
       "  text-decoration: none;\n",
       "}\n",
       "\n",
       "div.sk-estimator.fitted:hover .sk-estimator-doc-link.fitted:hover,\n",
       ".sk-estimator-doc-link.fitted:hover,\n",
       "div.sk-label-container:hover .sk-estimator-doc-link.fitted:hover,\n",
       ".sk-estimator-doc-link.fitted:hover {\n",
       "  /* fitted */\n",
       "  background-color: var(--sklearn-color-fitted-level-3);\n",
       "  color: var(--sklearn-color-background);\n",
       "  text-decoration: none;\n",
       "}\n",
       "\n",
       "/* Span, style for the box shown on hovering the info icon */\n",
       ".sk-estimator-doc-link span {\n",
       "  display: none;\n",
       "  z-index: 9999;\n",
       "  position: relative;\n",
       "  font-weight: normal;\n",
       "  right: .2ex;\n",
       "  padding: .5ex;\n",
       "  margin: .5ex;\n",
       "  width: min-content;\n",
       "  min-width: 20ex;\n",
       "  max-width: 50ex;\n",
       "  color: var(--sklearn-color-text);\n",
       "  box-shadow: 2pt 2pt 4pt #999;\n",
       "  /* unfitted */\n",
       "  background: var(--sklearn-color-unfitted-level-0);\n",
       "  border: .5pt solid var(--sklearn-color-unfitted-level-3);\n",
       "}\n",
       "\n",
       ".sk-estimator-doc-link.fitted span {\n",
       "  /* fitted */\n",
       "  background: var(--sklearn-color-fitted-level-0);\n",
       "  border: var(--sklearn-color-fitted-level-3);\n",
       "}\n",
       "\n",
       ".sk-estimator-doc-link:hover span {\n",
       "  display: block;\n",
       "}\n",
       "\n",
       "/* \"?\"-specific style due to the `<a>` HTML tag */\n",
       "\n",
       "#sk-container-id-1 a.estimator_doc_link {\n",
       "  float: right;\n",
       "  font-size: 1rem;\n",
       "  line-height: 1em;\n",
       "  font-family: monospace;\n",
       "  background-color: var(--sklearn-color-background);\n",
       "  border-radius: 1rem;\n",
       "  height: 1rem;\n",
       "  width: 1rem;\n",
       "  text-decoration: none;\n",
       "  /* unfitted */\n",
       "  color: var(--sklearn-color-unfitted-level-1);\n",
       "  border: var(--sklearn-color-unfitted-level-1) 1pt solid;\n",
       "}\n",
       "\n",
       "#sk-container-id-1 a.estimator_doc_link.fitted {\n",
       "  /* fitted */\n",
       "  border: var(--sklearn-color-fitted-level-1) 1pt solid;\n",
       "  color: var(--sklearn-color-fitted-level-1);\n",
       "}\n",
       "\n",
       "/* On hover */\n",
       "#sk-container-id-1 a.estimator_doc_link:hover {\n",
       "  /* unfitted */\n",
       "  background-color: var(--sklearn-color-unfitted-level-3);\n",
       "  color: var(--sklearn-color-background);\n",
       "  text-decoration: none;\n",
       "}\n",
       "\n",
       "#sk-container-id-1 a.estimator_doc_link.fitted:hover {\n",
       "  /* fitted */\n",
       "  background-color: var(--sklearn-color-fitted-level-3);\n",
       "}\n",
       "</style><div id=\"sk-container-id-1\" class=\"sk-top-container\"><div class=\"sk-text-repr-fallback\"><pre>RandomForestRegressor(n_estimators=10, random_state=0)</pre><b>In a Jupyter environment, please rerun this cell to show the HTML representation or trust the notebook. <br />On GitHub, the HTML representation is unable to render, please try loading this page with nbviewer.org.</b></div><div class=\"sk-container\" hidden><div class=\"sk-item\"><div class=\"sk-estimator fitted sk-toggleable\"><input class=\"sk-toggleable__control sk-hidden--visually\" id=\"sk-estimator-id-1\" type=\"checkbox\" checked><label for=\"sk-estimator-id-1\" class=\"sk-toggleable__label fitted sk-toggleable__label-arrow fitted\">&nbsp;&nbsp;RandomForestRegressor<a class=\"sk-estimator-doc-link fitted\" rel=\"noreferrer\" target=\"_blank\" href=\"https://scikit-learn.org/1.4/modules/generated/sklearn.ensemble.RandomForestRegressor.html\">?<span>Documentation for RandomForestRegressor</span></a><span class=\"sk-estimator-doc-link fitted\">i<span>Fitted</span></span></label><div class=\"sk-toggleable__content fitted\"><pre>RandomForestRegressor(n_estimators=10, random_state=0)</pre></div> </div></div></div></div>"
      ],
      "text/plain": [
       "RandomForestRegressor(n_estimators=10, random_state=0)"
      ]
     },
     "execution_count": 20,
     "metadata": {},
     "output_type": "execute_result"
    }
   ],
   "source": [
    "regressor.fit(X_train, y_train)"
   ]
  },
  {
   "cell_type": "code",
   "execution_count": 21,
   "metadata": {
    "id": "qFRBWLEFIiHv"
   },
   "outputs": [],
   "source": [
    "filename = 'vadodara_house_model.pkl'"
   ]
  },
  {
   "cell_type": "code",
   "execution_count": 22,
   "metadata": {
    "id": "dgf0EQYnIiHv"
   },
   "outputs": [],
   "source": [
    "pickle.dump(regressor, open(filename, 'wb'))"
   ]
  },
  {
   "cell_type": "code",
   "execution_count": 23,
   "metadata": {
    "id": "zjMVF-jYIiHv"
   },
   "outputs": [],
   "source": [
    "loaded_model = pickle.load(open(filename, 'rb'))"
   ]
  },
  {
   "cell_type": "code",
   "execution_count": 24,
   "metadata": {
    "id": "gmpy6FqcIiHv"
   },
   "outputs": [],
   "source": [
    "accuracy = loaded_model.score(X_val, y_val)"
   ]
  },
  {
   "cell_type": "code",
   "execution_count": 25,
   "metadata": {
    "id": "xX_981_zIiHv",
    "outputId": "c6c64fe0-e688-4413-b41a-607e5fae238b"
   },
   "outputs": [
    {
     "name": "stdout",
     "output_type": "stream",
     "text": [
      "64.83637850373344 %\n"
     ]
    }
   ],
   "source": [
    "print(accuracy*100, '%')"
   ]
  },
  {
   "cell_type": "code",
   "execution_count": 26,
   "metadata": {
    "id": "ZJmhl8lPIiHv"
   },
   "outputs": [],
   "source": [
    "predictions = loaded_model.predict(X_val)"
   ]
  },
  {
   "cell_type": "code",
   "execution_count": 27,
   "metadata": {
    "id": "p3bjvg3vIiHw",
    "outputId": "a74539d4-3403-4f2b-ed0b-0af301c3005a"
   },
   "outputs": [
    {
     "data": {
      "text/plain": [
       "array([ 8565300. ,  5793300. ,  7395400. ,  8867500. ,  6091900. ,\n",
       "        2360200. ,  6043200. ,  7581000. , 12505708.4,  4825400. ,\n",
       "        3005100. ,  6990000. ,  2787900. ,  3983000. ,  3650400. ,\n",
       "        5858600. , 32400000. ,  5233489.5,  7107100. ,  2762500. ,\n",
       "        3610400. ,  3415100. ,  4794000. ,  7053600. ,  7294400. ,\n",
       "        4540700. ,  4912000. ,  2859779. , 10260000. ,  2437000. ,\n",
       "        5241400. ,  8950300. ,  4100000. ,  3619500. ,  7129500. ,\n",
       "        4050000. ,  9025400. , 11917200. ,  6234400. ,  7123200. ,\n",
       "        2755300. ,  1901300. ,  2570100. ,  2055200. ,  5940800. ,\n",
       "        2982500. ,  4365400. ,  2865000. ,  2810200. ,  3540000. ,\n",
       "        7303500. ,  2186200. ,  2780300. ,  1690100. ,  5260200. ,\n",
       "        7100000. ,  2635300. ,  2250800. ,  4278711.5,  2529950. ,\n",
       "        2860000. , 12041233.6,  3670300. ,  2725000. ,  1987700. ,\n",
       "        3399979. ,  5726000. ,  2665100. ])"
      ]
     },
     "execution_count": 27,
     "metadata": {},
     "output_type": "execute_result"
    }
   ],
   "source": [
    "predictions"
   ]
  },
  {
   "cell_type": "code",
   "execution_count": null,
   "metadata": {
    "id": "95MqDgRBIiHw"
   },
   "outputs": [],
   "source": []
  },
  {
   "cell_type": "code",
   "execution_count": null,
   "metadata": {
    "id": "oC-RKTv-IiHw"
   },
   "outputs": [],
   "source": []
  },
  {
   "cell_type": "code",
   "execution_count": null,
   "metadata": {
    "id": "LMKjievCQz6Y"
   },
   "outputs": [],
   "source": []
  }
 ],
 "metadata": {
  "colab": {
   "provenance": []
  },
  "kernelspec": {
   "display_name": "Python 3 (ipykernel)",
   "language": "python",
   "name": "python3"
  },
  "language_info": {
   "codemirror_mode": {
    "name": "ipython",
    "version": 3
   },
   "file_extension": ".py",
   "mimetype": "text/x-python",
   "name": "python",
   "nbconvert_exporter": "python",
   "pygments_lexer": "ipython3",
   "version": "3.11.7"
  }
 },
 "nbformat": 4,
 "nbformat_minor": 4
}
