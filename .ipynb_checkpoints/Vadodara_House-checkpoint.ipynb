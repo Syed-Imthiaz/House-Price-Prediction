{
 "cells": [
  {
   "cell_type": "code",
   "execution_count": 1,
   "metadata": {},
   "outputs": [],
   "source": [
    "import numpy as np\n",
    "import pandas as pd\n",
    "import pickle\n",
    "from sklearn.model_selection import train_test_split\n",
    "from sklearn.preprocessing import LabelEncoder\n",
    "from sklearn.preprocessing import OneHotEncoder\n",
    "from sklearn.preprocessing import StandardScaler\n",
    "from sklearn.ensemble import RandomForestRegressor\n",
    "from sklearn import model_selection"
   ]
  },
  {
   "cell_type": "code",
   "execution_count": 2,
   "metadata": {},
   "outputs": [
    {
     "data": {
      "text/html": [
       "<div>\n",
       "<style scoped>\n",
       "    .dataframe tbody tr th:only-of-type {\n",
       "        vertical-align: middle;\n",
       "    }\n",
       "\n",
       "    .dataframe tbody tr th {\n",
       "        vertical-align: top;\n",
       "    }\n",
       "\n",
       "    .dataframe thead th {\n",
       "        text-align: right;\n",
       "    }\n",
       "</style>\n",
       "<table border=\"1\" class=\"dataframe\">\n",
       "  <thead>\n",
       "    <tr style=\"text-align: right;\">\n",
       "      <th></th>\n",
       "      <th>h_type</th>\n",
       "      <th>location</th>\n",
       "      <th>society</th>\n",
       "      <th>size</th>\n",
       "      <th>bathroom</th>\n",
       "      <th>balcony</th>\n",
       "      <th>total_sqft</th>\n",
       "      <th>yr_built</th>\n",
       "      <th>furniture</th>\n",
       "      <th>sale_type</th>\n",
       "      <th>...</th>\n",
       "      <th>college</th>\n",
       "      <th>hospital</th>\n",
       "      <th>population</th>\n",
       "      <th>railway</th>\n",
       "      <th>airport</th>\n",
       "      <th>on_road</th>\n",
       "      <th>air_quality</th>\n",
       "      <th>restaurant</th>\n",
       "      <th>park</th>\n",
       "      <th>price</th>\n",
       "    </tr>\n",
       "  </thead>\n",
       "  <tbody>\n",
       "    <tr>\n",
       "      <th>0</th>\n",
       "      <td>apartment</td>\n",
       "      <td>Maneja</td>\n",
       "      <td>Bakeri Swara</td>\n",
       "      <td>3 BHK</td>\n",
       "      <td>3</td>\n",
       "      <td>1</td>\n",
       "      <td>1550.0</td>\n",
       "      <td>2011.0</td>\n",
       "      <td>0</td>\n",
       "      <td>new</td>\n",
       "      <td>...</td>\n",
       "      <td>0</td>\n",
       "      <td>1</td>\n",
       "      <td>2</td>\n",
       "      <td>0</td>\n",
       "      <td>0</td>\n",
       "      <td>1</td>\n",
       "      <td>1</td>\n",
       "      <td>1</td>\n",
       "      <td>1</td>\n",
       "      <td>4361705</td>\n",
       "    </tr>\n",
       "    <tr>\n",
       "      <th>1</th>\n",
       "      <td>apartment</td>\n",
       "      <td>Maneja</td>\n",
       "      <td>Bakeri Swara</td>\n",
       "      <td>3 BHK</td>\n",
       "      <td>3</td>\n",
       "      <td>1</td>\n",
       "      <td>1550.0</td>\n",
       "      <td>2012.0</td>\n",
       "      <td>1</td>\n",
       "      <td>new</td>\n",
       "      <td>...</td>\n",
       "      <td>0</td>\n",
       "      <td>1</td>\n",
       "      <td>2</td>\n",
       "      <td>0</td>\n",
       "      <td>0</td>\n",
       "      <td>1</td>\n",
       "      <td>1</td>\n",
       "      <td>1</td>\n",
       "      <td>1</td>\n",
       "      <td>5001905</td>\n",
       "    </tr>\n",
       "    <tr>\n",
       "      <th>2</th>\n",
       "      <td>apartment</td>\n",
       "      <td>Maneja</td>\n",
       "      <td>Bakeri Swara</td>\n",
       "      <td>3 BHK</td>\n",
       "      <td>3</td>\n",
       "      <td>1</td>\n",
       "      <td>1860.0</td>\n",
       "      <td>2010.0</td>\n",
       "      <td>1</td>\n",
       "      <td>new</td>\n",
       "      <td>...</td>\n",
       "      <td>0</td>\n",
       "      <td>1</td>\n",
       "      <td>2</td>\n",
       "      <td>0</td>\n",
       "      <td>0</td>\n",
       "      <td>1</td>\n",
       "      <td>1</td>\n",
       "      <td>1</td>\n",
       "      <td>1</td>\n",
       "      <td>5588795</td>\n",
       "    </tr>\n",
       "    <tr>\n",
       "      <th>3</th>\n",
       "      <td>apartment</td>\n",
       "      <td>Maneja</td>\n",
       "      <td>Bakeri Swara</td>\n",
       "      <td>2 BHK</td>\n",
       "      <td>2</td>\n",
       "      <td>1</td>\n",
       "      <td>1015.0</td>\n",
       "      <td>2016.0</td>\n",
       "      <td>1</td>\n",
       "      <td>new</td>\n",
       "      <td>...</td>\n",
       "      <td>0</td>\n",
       "      <td>1</td>\n",
       "      <td>2</td>\n",
       "      <td>0</td>\n",
       "      <td>0</td>\n",
       "      <td>1</td>\n",
       "      <td>1</td>\n",
       "      <td>1</td>\n",
       "      <td>1</td>\n",
       "      <td>3184740</td>\n",
       "    </tr>\n",
       "    <tr>\n",
       "      <th>4</th>\n",
       "      <td>apartment</td>\n",
       "      <td>Maneja</td>\n",
       "      <td>Bakeri Swara</td>\n",
       "      <td>2 BHK</td>\n",
       "      <td>2</td>\n",
       "      <td>1</td>\n",
       "      <td>1210.0</td>\n",
       "      <td>2019.0</td>\n",
       "      <td>0</td>\n",
       "      <td>new</td>\n",
       "      <td>...</td>\n",
       "      <td>0</td>\n",
       "      <td>1</td>\n",
       "      <td>2</td>\n",
       "      <td>0</td>\n",
       "      <td>0</td>\n",
       "      <td>1</td>\n",
       "      <td>1</td>\n",
       "      <td>1</td>\n",
       "      <td>1</td>\n",
       "      <td>3498895</td>\n",
       "    </tr>\n",
       "  </tbody>\n",
       "</table>\n",
       "<p>5 rows × 24 columns</p>\n",
       "</div>"
      ],
      "text/plain": [
       "      h_type location       society   size  bathroom  balcony  total_sqft  \\\n",
       "0  apartment   Maneja  Bakeri Swara  3 BHK         3        1      1550.0   \n",
       "1  apartment   Maneja  Bakeri Swara  3 BHK         3        1      1550.0   \n",
       "2  apartment   Maneja  Bakeri Swara  3 BHK         3        1      1860.0   \n",
       "3  apartment   Maneja  Bakeri Swara  2 BHK         2        1      1015.0   \n",
       "4  apartment   Maneja  Bakeri Swara  2 BHK         2        1      1210.0   \n",
       "\n",
       "   yr_built  furniture sale_type  ...  college  hospital  population  railway  \\\n",
       "0    2011.0          0       new  ...        0         1           2        0   \n",
       "1    2012.0          1       new  ...        0         1           2        0   \n",
       "2    2010.0          1       new  ...        0         1           2        0   \n",
       "3    2016.0          1       new  ...        0         1           2        0   \n",
       "4    2019.0          0       new  ...        0         1           2        0   \n",
       "\n",
       "   airport  on_road  air_quality  restaurant  park    price  \n",
       "0        0        1            1           1     1  4361705  \n",
       "1        0        1            1           1     1  5001905  \n",
       "2        0        1            1           1     1  5588795  \n",
       "3        0        1            1           1     1  3184740  \n",
       "4        0        1            1           1     1  3498895  \n",
       "\n",
       "[5 rows x 24 columns]"
      ]
     },
     "execution_count": 2,
     "metadata": {},
     "output_type": "execute_result"
    }
   ],
   "source": [
    "data = pd.read_csv(\"vadodara_house_price_dataset_new.csv\")\n",
    "data.head()"
   ]
  },
  {
   "cell_type": "code",
   "execution_count": 3,
   "metadata": {},
   "outputs": [
    {
     "data": {
      "text/html": [
       "<div>\n",
       "<style scoped>\n",
       "    .dataframe tbody tr th:only-of-type {\n",
       "        vertical-align: middle;\n",
       "    }\n",
       "\n",
       "    .dataframe tbody tr th {\n",
       "        vertical-align: top;\n",
       "    }\n",
       "\n",
       "    .dataframe thead th {\n",
       "        text-align: right;\n",
       "    }\n",
       "</style>\n",
       "<table border=\"1\" class=\"dataframe\">\n",
       "  <thead>\n",
       "    <tr style=\"text-align: right;\">\n",
       "      <th></th>\n",
       "      <th>h_type</th>\n",
       "      <th>location</th>\n",
       "      <th>size</th>\n",
       "      <th>bathroom</th>\n",
       "      <th>balcony</th>\n",
       "      <th>total_sqft</th>\n",
       "      <th>price</th>\n",
       "    </tr>\n",
       "  </thead>\n",
       "  <tbody>\n",
       "    <tr>\n",
       "      <th>0</th>\n",
       "      <td>apartment</td>\n",
       "      <td>Maneja</td>\n",
       "      <td>3 BHK</td>\n",
       "      <td>3</td>\n",
       "      <td>1</td>\n",
       "      <td>1550.0</td>\n",
       "      <td>4361705</td>\n",
       "    </tr>\n",
       "    <tr>\n",
       "      <th>1</th>\n",
       "      <td>apartment</td>\n",
       "      <td>Maneja</td>\n",
       "      <td>3 BHK</td>\n",
       "      <td>3</td>\n",
       "      <td>1</td>\n",
       "      <td>1550.0</td>\n",
       "      <td>5001905</td>\n",
       "    </tr>\n",
       "    <tr>\n",
       "      <th>2</th>\n",
       "      <td>apartment</td>\n",
       "      <td>Maneja</td>\n",
       "      <td>3 BHK</td>\n",
       "      <td>3</td>\n",
       "      <td>1</td>\n",
       "      <td>1860.0</td>\n",
       "      <td>5588795</td>\n",
       "    </tr>\n",
       "    <tr>\n",
       "      <th>3</th>\n",
       "      <td>apartment</td>\n",
       "      <td>Maneja</td>\n",
       "      <td>2 BHK</td>\n",
       "      <td>2</td>\n",
       "      <td>1</td>\n",
       "      <td>1015.0</td>\n",
       "      <td>3184740</td>\n",
       "    </tr>\n",
       "    <tr>\n",
       "      <th>4</th>\n",
       "      <td>apartment</td>\n",
       "      <td>Maneja</td>\n",
       "      <td>2 BHK</td>\n",
       "      <td>2</td>\n",
       "      <td>1</td>\n",
       "      <td>1210.0</td>\n",
       "      <td>3498895</td>\n",
       "    </tr>\n",
       "  </tbody>\n",
       "</table>\n",
       "</div>"
      ],
      "text/plain": [
       "      h_type location   size  bathroom  balcony  total_sqft    price\n",
       "0  apartment   Maneja  3 BHK         3        1      1550.0  4361705\n",
       "1  apartment   Maneja  3 BHK         3        1      1550.0  5001905\n",
       "2  apartment   Maneja  3 BHK         3        1      1860.0  5588795\n",
       "3  apartment   Maneja  2 BHK         2        1      1015.0  3184740\n",
       "4  apartment   Maneja  2 BHK         2        1      1210.0  3498895"
      ]
     },
     "execution_count": 3,
     "metadata": {},
     "output_type": "execute_result"
    }
   ],
   "source": [
    "data = data.drop(['society', 'yr_built', 'furniture', 'sale_type', 'amenities', 'market', 'office', 'school', 'college', 'hospital', 'population', 'railway', 'airport', 'on_road', 'air_quality', 'restaurant', 'park'], axis=1)\n",
    "data.head()"
   ]
  },
  {
   "cell_type": "code",
   "execution_count": 4,
   "metadata": {},
   "outputs": [
    {
     "data": {
      "text/plain": [
       "h_type        0\n",
       "location      0\n",
       "size          0\n",
       "bathroom      0\n",
       "balcony       0\n",
       "total_sqft    0\n",
       "price         0\n",
       "dtype: int64"
      ]
     },
     "execution_count": 4,
     "metadata": {},
     "output_type": "execute_result"
    }
   ],
   "source": [
    "data.isnull().sum()"
   ]
  },
  {
   "cell_type": "code",
   "execution_count": 5,
   "metadata": {},
   "outputs": [
    {
     "data": {
      "text/plain": [
       "array([['apartment', 'Maneja', '3 BHK', 3, 1, 1550.0],\n",
       "       ['apartment', 'Maneja', '3 BHK', 3, 1, 1550.0],\n",
       "       ['apartment', 'Maneja', '3 BHK', 3, 1, 1860.0],\n",
       "       ...,\n",
       "       ['apartment', 'Gotri', '3 BHK', 3, 3, 1550.0],\n",
       "       ['apartment', 'Gotri', '3 BHK', 3, 2, 1750.0],\n",
       "       ['apartment', 'Gotri', '2 BHK', 2, 3, 1200.0]], dtype=object)"
      ]
     },
     "execution_count": 5,
     "metadata": {},
     "output_type": "execute_result"
    }
   ],
   "source": [
    "df = data.iloc[ : , :-1].values\n",
    "df"
   ]
  },
  {
   "cell_type": "code",
   "execution_count": 6,
   "metadata": {},
   "outputs": [],
   "source": [
    "label_encoder = LabelEncoder()"
   ]
  },
  {
   "cell_type": "code",
   "execution_count": 7,
   "metadata": {},
   "outputs": [
    {
     "data": {
      "text/plain": [
       "array([[0, 'Maneja', '3 BHK', 3, 1, 1550.0],\n",
       "       [0, 'Maneja', '3 BHK', 3, 1, 1550.0],\n",
       "       [0, 'Maneja', '3 BHK', 3, 1, 1860.0],\n",
       "       ...,\n",
       "       [0, 'Gotri', '3 BHK', 3, 3, 1550.0],\n",
       "       [0, 'Gotri', '3 BHK', 3, 2, 1750.0],\n",
       "       [0, 'Gotri', '2 BHK', 2, 3, 1200.0]], dtype=object)"
      ]
     },
     "execution_count": 7,
     "metadata": {},
     "output_type": "execute_result"
    }
   ],
   "source": [
    "df[ : ,0] = label_encoder.fit_transform(df[ : ,0])\n",
    "df"
   ]
  },
  {
   "cell_type": "code",
   "execution_count": 8,
   "metadata": {},
   "outputs": [
    {
     "data": {
      "text/plain": [
       "{'apartment': 0,\n",
       " 'duplex': 1,\n",
       " 'pent house': 2,\n",
       " 'tenament': 3,\n",
       " 'triplex': 4,\n",
       " 'villa': 5}"
      ]
     },
     "execution_count": 8,
     "metadata": {},
     "output_type": "execute_result"
    }
   ],
   "source": [
    "mapping = dict(zip(label_encoder.classes_, label_encoder.transform(label_encoder.classes_)))\n",
    "mapping"
   ]
  },
  {
   "cell_type": "code",
   "execution_count": 9,
   "metadata": {},
   "outputs": [
    {
     "data": {
      "text/plain": [
       "array([[0, 15, '3 BHK', 3, 1, 1550.0],\n",
       "       [0, 15, '3 BHK', 3, 1, 1550.0],\n",
       "       [0, 15, '3 BHK', 3, 1, 1860.0],\n",
       "       ...,\n",
       "       [0, 8, '3 BHK', 3, 3, 1550.0],\n",
       "       [0, 8, '3 BHK', 3, 2, 1750.0],\n",
       "       [0, 8, '2 BHK', 2, 3, 1200.0]], dtype=object)"
      ]
     },
     "execution_count": 9,
     "metadata": {},
     "output_type": "execute_result"
    }
   ],
   "source": [
    "df[ : ,1] = label_encoder.fit_transform(df[ : ,1])\n",
    "df"
   ]
  },
  {
   "cell_type": "code",
   "execution_count": 10,
   "metadata": {},
   "outputs": [
    {
     "data": {
      "text/plain": [
       "{'Ajwa Road': 0,\n",
       " 'Akota': 1,\n",
       " 'Alkapuri': 2,\n",
       " 'Atladra': 3,\n",
       " 'Bhayli': 4,\n",
       " 'Chhani': 5,\n",
       " 'Fatehgunj': 6,\n",
       " 'Gorwa': 7,\n",
       " 'Gotri': 8,\n",
       " 'Harni': 9,\n",
       " 'Karelibaug': 10,\n",
       " 'Khodiyar Nagar': 11,\n",
       " 'Laxmipura': 12,\n",
       " 'Madhav Pura': 13,\n",
       " 'Mandvi': 14,\n",
       " 'Maneja': 15,\n",
       " 'Manjalpur': 16,\n",
       " 'Navapura': 17,\n",
       " 'New Alkapuri': 18,\n",
       " 'New Karelibaugh': 19,\n",
       " 'New Sama': 20,\n",
       " 'New VIP Road': 21,\n",
       " 'Sama': 22,\n",
       " 'Sayajipura': 23,\n",
       " 'Soma Talav': 24,\n",
       " 'Vasant Vihar': 25,\n",
       " 'Vasna Road': 26,\n",
       " 'Vasna-Bhayli Road': 27,\n",
       " 'Waghodia Road': 28}"
      ]
     },
     "execution_count": 10,
     "metadata": {},
     "output_type": "execute_result"
    }
   ],
   "source": [
    "mapping = dict(zip(label_encoder.classes_, label_encoder.transform(label_encoder.classes_)))\n",
    "mapping"
   ]
  },
  {
   "cell_type": "code",
   "execution_count": 11,
   "metadata": {},
   "outputs": [
    {
     "data": {
      "text/plain": [
       "array([[0, 15, 2, 3, 1, 1550.0],\n",
       "       [0, 15, 2, 3, 1, 1550.0],\n",
       "       [0, 15, 2, 3, 1, 1860.0],\n",
       "       ...,\n",
       "       [0, 8, 2, 3, 3, 1550.0],\n",
       "       [0, 8, 2, 3, 2, 1750.0],\n",
       "       [0, 8, 1, 2, 3, 1200.0]], dtype=object)"
      ]
     },
     "execution_count": 11,
     "metadata": {},
     "output_type": "execute_result"
    }
   ],
   "source": [
    "df[ : ,2] = label_encoder.fit_transform(df[ : ,2])\n",
    "df"
   ]
  },
  {
   "cell_type": "code",
   "execution_count": 12,
   "metadata": {},
   "outputs": [
    {
     "data": {
      "text/plain": [
       "{'1 BHK': 0, '2 BHK': 1, '3 BHK': 2, '4 BHK': 3, '5 BHK': 4}"
      ]
     },
     "execution_count": 12,
     "metadata": {},
     "output_type": "execute_result"
    }
   ],
   "source": [
    "mapping = dict(zip(label_encoder.classes_, label_encoder.transform(label_encoder.classes_)))\n",
    "mapping"
   ]
  },
  {
   "cell_type": "code",
   "execution_count": 13,
   "metadata": {},
   "outputs": [],
   "source": [
    "y = data.price.values\n",
    "X = df"
   ]
  },
  {
   "cell_type": "code",
   "execution_count": 14,
   "metadata": {},
   "outputs": [],
   "source": [
    "X_train, X_val, y_train, y_val = train_test_split(X, y,test_size=0.2)"
   ]
  },
  {
   "cell_type": "code",
   "execution_count": 15,
   "metadata": {},
   "outputs": [],
   "source": [
    "standard_x = StandardScaler()"
   ]
  },
  {
   "cell_type": "code",
   "execution_count": 16,
   "metadata": {},
   "outputs": [],
   "source": [
    "X_train = standard_x.fit_transform(X_train)\n",
    "X_val = standard_x.transform(X_val)"
   ]
  },
  {
   "cell_type": "code",
   "execution_count": 17,
   "metadata": {},
   "outputs": [
    {
     "name": "stdout",
     "output_type": "stream",
     "text": [
      "Train_Shape:  (272, 6)\n",
      "\n",
      "X_train:\n"
     ]
    },
    {
     "data": {
      "text/plain": [
       "array([[-0.40489619,  1.6113351 , -0.78202346, -0.65275545,  0.55804276,\n",
       "        -0.50747977],\n",
       "       [-0.40489619, -0.45706525, -0.78202346, -0.65275545, -0.57470075,\n",
       "        -0.77806073],\n",
       "       [ 0.46228305,  0.63156652, -1.93805814, -1.72881292, -0.57470075,\n",
       "        -0.92838349],\n",
       "       ...,\n",
       "       [-0.40489619, -0.45706525,  0.37401122,  0.42330202,  0.55804276,\n",
       "        -0.09750862],\n",
       "       [-0.40489619,  1.6113351 , -1.93805814, -1.72881292, -0.57470075,\n",
       "        -1.19076502],\n",
       "       [-0.40489619, -0.45706525,  0.37401122,  0.42330202,  0.55804276,\n",
       "        -0.43641811]])"
      ]
     },
     "execution_count": 17,
     "metadata": {},
     "output_type": "execute_result"
    }
   ],
   "source": [
    "print('Train_Shape: ',X_train.shape)\n",
    "print(\"\\nX_train:\")\n",
    "X_train"
   ]
  },
  {
   "cell_type": "code",
   "execution_count": 18,
   "metadata": {},
   "outputs": [
    {
     "name": "stdout",
     "output_type": "stream",
     "text": [
      "Val_Shape:  (68, 6)\n",
      "\n",
      "X_val:\n"
     ]
    },
    {
     "data": {
      "text/plain": [
       "array([[-0.40489619, -0.13047572,  0.37401122,  0.42330202,  0.55804276,\n",
       "         0.44911958],\n",
       "       [-0.40489619,  0.63156652,  0.37401122, -0.65275545,  1.69078628,\n",
       "        -0.23416567],\n",
       "       [-0.40489619, -1.21910748,  0.37401122,  1.49935949,  1.69078628,\n",
       "         0.3876239 ],\n",
       "       [-0.40489619,  1.6113351 , -0.78202346, -0.65275545, -0.57470075,\n",
       "        -0.93384977],\n",
       "       [-0.40489619, -1.00138113,  1.5300459 ,  1.49935949,  0.55804276,\n",
       "         0.24554157],\n",
       "       [-0.40489619, -1.21910748,  1.5300459 ,  3.65147443,  0.55804276,\n",
       "         4.20718844],\n",
       "       [-0.40489619, -0.34820207,  0.37401122,  0.42330202,  0.55804276,\n",
       "         0.244134  ],\n",
       "       [-0.40489619, -0.34820207,  1.5300459 ,  1.49935949,  2.82352979,\n",
       "         0.98212307],\n",
       "       [-0.40489619,  1.6113351 , -0.78202346, -0.65275545,  0.55804276,\n",
       "        -1.06367396],\n",
       "       [-0.40489619, -0.89251795, -0.78202346, -0.65275545,  0.55804276,\n",
       "        -0.27242965],\n",
       "       [-0.40489619,  1.6113351 ,  0.37401122,  0.42330202,  1.69078628,\n",
       "        -0.52661176],\n",
       "       [-0.40489619, -0.13047572, -0.78202346, -0.65275545,  0.55804276,\n",
       "        -0.54164403],\n",
       "       [-0.40489619, -0.45706525,  0.37401122,  0.42330202,  0.55804276,\n",
       "        -0.55667631],\n",
       "       [-0.40489619, -0.45706525, -0.78202346, -0.65275545, -0.57470075,\n",
       "        -0.27516279],\n",
       "       [-0.40489619, -1.43683384, -0.78202346, -0.65275545, -0.57470075,\n",
       "        -0.07701007],\n",
       "       [-0.40489619, -0.34820207,  1.5300459 ,  1.49935949,  2.82352979,\n",
       "         1.48620993],\n",
       "       [ 3.93100002, -0.13047572,  1.5300459 ,  0.42330202,  0.55804276,\n",
       "         0.17580548],\n",
       "       [-0.40489619,  1.39360875,  0.37401122,  0.42330202,  0.55804276,\n",
       "         0.07331269],\n",
       "       [-0.40489619, -1.32797066,  0.37401122,  0.42330202,  0.55804276,\n",
       "        -0.0291801 ],\n",
       "       [-0.40489619, -0.89251795, -0.78202346, -0.65275545,  0.55804276,\n",
       "        -0.589474  ],\n",
       "       [-0.40489619,  1.6113351 , -0.78202346, -0.65275545, -0.57470075,\n",
       "        -0.53481118],\n",
       "       [ 3.93100002, -1.21910748,  0.37401122,  0.42330202, -0.57470075,\n",
       "         1.67903302],\n",
       "       [-0.40489619,  1.50247193,  0.37401122,  0.42330202, -0.57470075,\n",
       "        -0.37082272],\n",
       "       [ 0.46228305,  1.6113351 ,  0.37401122,  0.42330202,  1.69078628,\n",
       "        -0.70973221],\n",
       "       [-0.40489619, -0.78365478, -0.78202346, -0.65275545, -0.57470075,\n",
       "        -0.41865269],\n",
       "       [ 0.46228305, -1.43683384, -0.78202346, -0.65275545, -0.57470075,\n",
       "        -0.78079387],\n",
       "       [ 0.46228305,  1.6113351 ,  0.37401122,  0.42330202, -0.57470075,\n",
       "        -0.43915125],\n",
       "       [-0.40489619,  0.52270334,  0.37401122,  0.42330202,  3.95627331,\n",
       "         0.44911958],\n",
       "       [-0.40489619, -1.21910748,  0.37401122, -0.65275545, -0.57470075,\n",
       "        -0.09750862],\n",
       "       [-0.40489619, -1.00138113, -0.78202346, -0.65275545,  0.55804276,\n",
       "        -0.09750862],\n",
       "       [-0.40489619,  1.39360875,  0.37401122,  0.42330202,  2.82352979,\n",
       "         0.38079105],\n",
       "       [ 3.93100002, -1.11024431,  0.37401122,  0.42330202, -0.57470075,\n",
       "        -0.3024942 ],\n",
       "       [ 0.46228305,  0.52270334,  1.5300459 ,  2.57541696, -0.57470075,\n",
       "         3.16312858],\n",
       "       [-0.40489619, -1.43683384,  0.37401122, -0.65275545, -0.57470075,\n",
       "         0.25779971],\n",
       "       [-0.40489619, -0.02161254, -0.78202346, -0.65275545,  1.69078628,\n",
       "        -0.26149708],\n",
       "       [-0.40489619, -1.00138113,  0.37401122, -1.72881292, -0.57470075,\n",
       "        -0.77532759],\n",
       "       [ 0.46228305, -0.45706525,  0.37401122,  0.42330202,  1.69078628,\n",
       "         0.02138301],\n",
       "       [-0.40489619,  1.06701922, -1.93805814, -1.72881292, -0.57470075,\n",
       "        -1.1224365 ],\n",
       "       [ 0.46228305,  0.63156652,  0.37401122,  0.42330202,  0.55804276,\n",
       "         0.44911958],\n",
       "       [-0.40489619,  0.63156652,  0.37401122,  0.42330202, -0.57470075,\n",
       "        -0.16583715],\n",
       "       [-0.40489619,  0.19611381,  0.37401122,  0.42330202, -0.57470075,\n",
       "         0.53111381],\n",
       "       [-0.40489619,  0.63156652, -0.78202346, -0.65275545, -0.57470075,\n",
       "        -0.5758083 ],\n",
       "       [-0.40489619, -0.45706525,  0.37401122, -2.80487039, -1.70744427,\n",
       "         0.01181702],\n",
       "       [-0.40489619, -1.11024431,  0.37401122,  0.42330202,  0.55804276,\n",
       "         0.44911958],\n",
       "       [ 3.93100002, -1.00138113,  1.5300459 ,  1.49935949,  0.55804276,\n",
       "         0.29196397],\n",
       "       [-0.40489619, -0.89251795, -0.78202346, -0.65275545, -1.70744427,\n",
       "        -0.03601295],\n",
       "       [-0.40489619, -0.89251795, -0.78202346, -0.65275545,  0.55804276,\n",
       "        -0.8491224 ],\n",
       "       [-0.40489619, -0.2393389 ,  0.37401122,  0.42330202,  0.55804276,\n",
       "        -0.11800718],\n",
       "       [ 0.46228305, -0.89251795,  0.37401122,  0.42330202, -0.57470075,\n",
       "        -0.09750862],\n",
       "       [-0.40489619,  0.41384016, -0.78202346, -0.65275545, -0.57470075,\n",
       "        -1.1224365 ],\n",
       "       [-0.40489619, -0.45706525,  0.37401122,  0.42330202, -1.70744427,\n",
       "        -0.74662961],\n",
       "       [-0.40489619,  0.30497699,  0.37401122,  0.42330202, -0.57470075,\n",
       "         0.32612823],\n",
       "       [ 0.46228305,  1.6113351 , -0.78202346, -0.65275545, -0.57470075,\n",
       "        -0.67830108],\n",
       "       [ 3.93100002, -1.00138113,  1.5300459 ,  0.42330202, -0.57470075,\n",
       "         0.99574777],\n",
       "       [-0.40489619, -1.32797066,  0.37401122,  0.42330202,  0.55804276,\n",
       "         0.06647984],\n",
       "       [-0.40489619,  0.63156652,  1.5300459 ,  1.49935949,  1.69078628,\n",
       "         0.17580548],\n",
       "       [-0.40489619,  1.50247193,  1.5300459 ,  1.49935949,  1.69078628,\n",
       "         1.13240482],\n",
       "       [ 0.46228305,  1.6113351 ,  0.37401122,  0.42330202, -0.57470075,\n",
       "        -0.49108093],\n",
       "       [-0.40489619, -0.78365478,  0.37401122, -0.65275545,  0.55804276,\n",
       "         2.08900417],\n",
       "       [-0.40489619,  1.50247193,  0.37401122,  0.42330202,  1.69078628,\n",
       "         0.5174481 ],\n",
       "       [-0.40489619, -0.89251795,  0.37401122, -0.65275545, -0.57470075,\n",
       "        -0.21366712],\n",
       "       [ 0.46228305,  1.6113351 ,  0.37401122,  0.42330202,  0.55804276,\n",
       "        -0.52797833],\n",
       "       [-0.40489619, -1.11024431,  1.5300459 ,  1.49935949,  1.69078628,\n",
       "         0.85909072],\n",
       "       [-0.40489619, -0.45706525,  0.37401122,  0.42330202, -0.57470075,\n",
       "        -0.78039757],\n",
       "       [-0.40489619, -0.02161254,  0.37401122,  0.42330202,  1.69078628,\n",
       "         0.31246253],\n",
       "       [-0.40489619, -0.2393389 , -0.78202346, -0.65275545,  0.55804276,\n",
       "        -0.3024942 ],\n",
       "       [-0.40489619, -1.43683384, -0.78202346, -0.65275545, -0.57470075,\n",
       "        -0.4596498 ],\n",
       "       [ 0.46228305,  1.06701922, -0.78202346, -0.65275545, -0.57470075,\n",
       "        -1.31102322]])"
      ]
     },
     "execution_count": 18,
     "metadata": {},
     "output_type": "execute_result"
    }
   ],
   "source": [
    "print('Val_Shape: ',X_val.shape)\n",
    "print(\"\\nX_val:\")\n",
    "X_val"
   ]
  },
  {
   "cell_type": "code",
   "execution_count": 19,
   "metadata": {},
   "outputs": [],
   "source": [
    "regressor = RandomForestRegressor(n_estimators = 10, random_state = 0)"
   ]
  },
  {
   "cell_type": "code",
   "execution_count": 20,
   "metadata": {},
   "outputs": [
    {
     "data": {
      "text/plain": [
       "RandomForestRegressor(n_estimators=10, random_state=0)"
      ]
     },
     "execution_count": 20,
     "metadata": {},
     "output_type": "execute_result"
    }
   ],
   "source": [
    "regressor.fit(X_train, y_train)"
   ]
  },
  {
   "cell_type": "code",
   "execution_count": 21,
   "metadata": {},
   "outputs": [],
   "source": [
    "filename = 'vadodara_house_model.pkl'"
   ]
  },
  {
   "cell_type": "code",
   "execution_count": 22,
   "metadata": {},
   "outputs": [],
   "source": [
    "pickle.dump(regressor, open(filename, 'wb'))"
   ]
  },
  {
   "cell_type": "code",
   "execution_count": 23,
   "metadata": {},
   "outputs": [],
   "source": [
    "loaded_model = pickle.load(open(filename, 'rb'))"
   ]
  },
  {
   "cell_type": "code",
   "execution_count": 24,
   "metadata": {},
   "outputs": [],
   "source": [
    "accuracy = loaded_model.score(X_val, y_val)"
   ]
  },
  {
   "cell_type": "code",
   "execution_count": 25,
   "metadata": {},
   "outputs": [
    {
     "name": "stdout",
     "output_type": "stream",
     "text": [
      "67.7149520790453 %\n"
     ]
    }
   ],
   "source": [
    "print(accuracy*100, '%')"
   ]
  },
  {
   "cell_type": "code",
   "execution_count": 26,
   "metadata": {},
   "outputs": [],
   "source": [
    "predictions = loaded_model.predict(X_val)"
   ]
  },
  {
   "cell_type": "code",
   "execution_count": 27,
   "metadata": {},
   "outputs": [
    {
     "data": {
      "text/plain": [
       "array([ 4501300.        ,  3214400.        ,  8115500.        ,\n",
       "        2253900.        ,  6771900.        , 22315300.        ,\n",
       "        5539400.        ,  9320400.        ,  2740800.        ,\n",
       "        2910000.        ,  5307200.        ,  2550000.        ,\n",
       "        4934800.        ,  3344100.        ,  3233333.33333333,\n",
       "        7897900.        ,  9218000.        ,  4963900.        ,\n",
       "        7569200.        ,  2522400.        ,  2424500.        ,\n",
       "       15160900.        ,  4207400.        ,  4381500.        ,\n",
       "        3915000.        ,  3285100.        ,  4708000.        ,\n",
       "        4442300.        ,  2770000.        ,  3420000.        ,\n",
       "        6001200.        ,  7801000.        , 16740300.        ,\n",
       "        5225300.        ,  3453489.5       ,  5664000.        ,\n",
       "        8614500.        ,  1591200.        ,  4580300.        ,\n",
       "        3351200.        ,  5930000.        ,  1880500.        ,\n",
       "        6110500.        ,  5440400.        , 10278200.        ,\n",
       "        3536400.        ,  2830100.        ,  3159900.        ,\n",
       "        2690800.        ,  2058200.        ,  4078800.        ,\n",
       "        4674361.        ,  2425100.        , 10200000.        ,\n",
       "        7441700.        ,  6265990.5       ,  9410800.        ,\n",
       "        4646000.        ,  8790300.        ,  6706200.        ,\n",
       "        3000300.        ,  5970000.        ,  8597908.4       ,\n",
       "        3400400.        ,  4509661.        ,  3550000.        ,\n",
       "        2173333.33333333,  1756700.        ])"
      ]
     },
     "execution_count": 27,
     "metadata": {},
     "output_type": "execute_result"
    }
   ],
   "source": [
    "predictions"
   ]
  },
  {
   "cell_type": "code",
   "execution_count": null,
   "metadata": {},
   "outputs": [],
   "source": []
  }
 ],
 "metadata": {
  "kernelspec": {
   "display_name": "Python 3 (ipykernel)",
   "language": "python",
   "name": "python3"
  },
  "language_info": {
   "codemirror_mode": {
    "name": "ipython",
    "version": 3
   },
   "file_extension": ".py",
   "mimetype": "text/x-python",
   "name": "python",
   "nbconvert_exporter": "python",
   "pygments_lexer": "ipython3",
   "version": "3.9.7"
  }
 },
 "nbformat": 4,
 "nbformat_minor": 2
}
